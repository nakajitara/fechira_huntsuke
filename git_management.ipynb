{
  "nbformat": 4,
  "nbformat_minor": 0,
  "metadata": {
    "colab": {
      "provenance": [],
      "mount_file_id": "1Tb2V3NoW5IwoWdKWRL-s628oDFKWz2N8",
      "authorship_tag": "ABX9TyM8o/o4uOF3pL/wVMP8bw+K",
      "include_colab_link": true
    },
    "kernelspec": {
      "name": "python3",
      "display_name": "Python 3"
    },
    "language_info": {
      "name": "python"
    }
  },
  "cells": [
    {
      "cell_type": "markdown",
      "metadata": {
        "id": "view-in-github",
        "colab_type": "text"
      },
      "source": [
        "<a href=\"https://colab.research.google.com/github/nakajitara/fechira_huntsuke/blob/main/git_management.ipynb\" target=\"_parent\"><img src=\"https://colab.research.google.com/assets/colab-badge.svg\" alt=\"Open In Colab\"/></a>"
      ]
    },
    {
      "cell_type": "code",
      "source": [
        "# prompt: moverse a la carpeta hacer git init en la carpeta de drive /content/drive/MyDrive/Colab Notebooks/fechira_huntsuke/\n",
        "\n",
        "import os\n",
        "\n",
        "# Move to the desired directory\n",
        "os.chdir('/content/drive/MyDrive/Colab Notebooks/fechira_huntsuke/')\n",
        "\n",
        "# Initialize a Git repository in the current directory\n",
        "!git init\n"
      ],
      "metadata": {
        "colab": {
          "base_uri": "https://localhost:8080/"
        },
        "id": "MBWX_1cHfQJ0",
        "outputId": "3adab91e-9ca5-4f6e-c191-0bfadbb8d129"
      },
      "execution_count": 58,
      "outputs": [
        {
          "output_type": "stream",
          "name": "stdout",
          "text": [
            "\u001b[33mhint: Using 'master' as the name for the initial branch. This default branch name\u001b[m\n",
            "\u001b[33mhint: is subject to change. To configure the initial branch name to use in all\u001b[m\n",
            "\u001b[33mhint: of your new repositories, which will suppress this warning, call:\u001b[m\n",
            "\u001b[33mhint: \u001b[m\n",
            "\u001b[33mhint: \tgit config --global init.defaultBranch <name>\u001b[m\n",
            "\u001b[33mhint: \u001b[m\n",
            "\u001b[33mhint: Names commonly chosen instead of 'master' are 'main', 'trunk' and\u001b[m\n",
            "\u001b[33mhint: 'development'. The just-created branch can be renamed via this command:\u001b[m\n",
            "\u001b[33mhint: \u001b[m\n",
            "\u001b[33mhint: \tgit branch -m <name>\u001b[m\n",
            "Initialized empty Git repository in /content/drive/MyDrive/Colab Notebooks/fechira_huntsuke/.git/\n"
          ]
        }
      ]
    },
    {
      "cell_type": "code",
      "source": [
        "!git config --local user.name \"arkaan\"\n",
        "!git config --local user.email \"azathothjashai@gmail.com\""
      ],
      "metadata": {
        "id": "cDWbESIYVJfH"
      },
      "execution_count": 60,
      "outputs": []
    },
    {
      "cell_type": "code",
      "source": [
        "!git status"
      ],
      "metadata": {
        "colab": {
          "base_uri": "https://localhost:8080/"
        },
        "id": "4DfAbSUeR5r9",
        "outputId": "2b61eb55-d25e-4fc4-9299-da72474c8b48"
      },
      "execution_count": 61,
      "outputs": [
        {
          "output_type": "stream",
          "name": "stdout",
          "text": [
            "On branch master\n",
            "\n",
            "No commits yet\n",
            "\n",
            "Untracked files:\n",
            "  (use \"git add <file>...\" to include in what will be committed)\n",
            "\t\u001b[31m.gitignore\u001b[m\n",
            "\t\u001b[31mfechira-huntsuke.ipynb\u001b[m\n",
            "\t\u001b[31mgames-features.csv\u001b[m\n",
            "\t\u001b[31mtransform_x.pkl\u001b[m\n",
            "\t\u001b[31mtransform_y.pkl\u001b[m\n",
            "\n",
            "nothing added to commit but untracked files present (use \"git add\" to track)\n"
          ]
        }
      ]
    },
    {
      "cell_type": "code",
      "source": [
        "!git add fechira-huntsuke.ipynb games-features.csv transform_x.pkl transform_y.pkl .gitignore"
      ],
      "metadata": {
        "id": "Lc5LmPU7R9bV"
      },
      "execution_count": 62,
      "outputs": []
    },
    {
      "cell_type": "code",
      "source": [
        "!git status"
      ],
      "metadata": {
        "colab": {
          "base_uri": "https://localhost:8080/"
        },
        "id": "SFraE1LRSv6d",
        "outputId": "b374583c-ee0c-4ab7-e663-890e0d279719"
      },
      "execution_count": 63,
      "outputs": [
        {
          "output_type": "stream",
          "name": "stdout",
          "text": [
            "On branch master\n",
            "\n",
            "No commits yet\n",
            "\n",
            "Changes to be committed:\n",
            "  (use \"git rm --cached <file>...\" to unstage)\n",
            "\t\u001b[32mnew file:   .gitignore\u001b[m\n",
            "\t\u001b[32mnew file:   fechira-huntsuke.ipynb\u001b[m\n",
            "\t\u001b[32mnew file:   games-features.csv\u001b[m\n",
            "\t\u001b[32mnew file:   transform_x.pkl\u001b[m\n",
            "\t\u001b[32mnew file:   transform_y.pkl\u001b[m\n",
            "\n"
          ]
        }
      ]
    },
    {
      "cell_type": "code",
      "source": [
        "!git commit -m \"add fechira-huntsuke project files\""
      ],
      "metadata": {
        "colab": {
          "base_uri": "https://localhost:8080/"
        },
        "id": "nBfE_1v6U7Vt",
        "outputId": "3d39a83f-f993-4e01-84e5-54c2e676d957"
      },
      "execution_count": 64,
      "outputs": [
        {
          "output_type": "stream",
          "name": "stdout",
          "text": [
            "[master (root-commit) dd9b6c2] add fechira-huntsuke project files\n",
            " 5 files changed, 13364 insertions(+)\n",
            " create mode 100644 .gitignore\n",
            " create mode 100644 fechira-huntsuke.ipynb\n",
            " create mode 100644 games-features.csv\n",
            " create mode 100644 transform_x.pkl\n",
            " create mode 100644 transform_y.pkl\n"
          ]
        }
      ]
    },
    {
      "cell_type": "code",
      "source": [
        "!git config --global --add credential.helper manager"
      ],
      "metadata": {
        "id": "H6RXGC7_fN7G"
      },
      "execution_count": 69,
      "outputs": []
    },
    {
      "cell_type": "code",
      "source": [
        "!git remote add origin https://gitlab.com/arkaan/fechira-huntsuke.git\n",
        "!git branch -M main\n",
        "!git push -uf origin main"
      ],
      "metadata": {
        "colab": {
          "base_uri": "https://localhost:8080/"
        },
        "id": "dwoR71cRcCgc",
        "outputId": "25756c98-70d4-42e3-ec46-6f78dd5795c1"
      },
      "execution_count": 70,
      "outputs": [
        {
          "output_type": "stream",
          "name": "stdout",
          "text": [
            "error: remote origin already exists.\n",
            "git: 'credential-manager' is not a git command. See 'git --help'.\n",
            "fatal: could not read Username for 'https://gitlab.com': No such device or address\n"
          ]
        }
      ]
    }
  ]
}